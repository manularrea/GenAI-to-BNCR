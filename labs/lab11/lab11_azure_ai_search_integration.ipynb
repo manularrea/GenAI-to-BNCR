{
  "cells": [
    {
      "cell_type": "markdown",
      "metadata": {},
      "source": [
        "# Lab 11: Azure AI Search Integration\\n\\n**Course:** Generative AI for Banking Sector  \\n**Institution:** Banco Nacional de Costa Rica (BNCR)  \\n**Instructor:** Manuela Larrea  \\n**Duration:** 3 hours\\n\\n---\\n\\n## Learning Objectives\\n\\nBy the end of this lab, you will be able to:\\n\\n1. Azure AI Search overview\\n2. Indexing banking documents\\n3. Hybrid search (keyword + semantic)\\n4. Filtering and faceting\\n5. Integration with Azure OpenAI\\n\\n---"
      ]
    },
    {
      "cell_type": "code",
      "execution_count": null,
      "metadata": {},
      "outputs": [],
      "source": [
        "import os\\nimport sys\\nfrom openai import AzureOpenAI\\nfrom dotenv import load_dotenv\\nimport json\\n\\nsys.path.append('../../utils')\\nfrom azure_openai_helper import AzureOpenAIClient\\n\\nload_dotenv()\\nclient = AzureOpenAIClient()\\n\\nprint(\"\u2713 Setup complete\")"
      ]
    },
    {
      "cell_type": "markdown",
      "metadata": {},
      "source": [
        "## Introduction\\n\\nIn this lab, we will explore **Azure AI Search Integration** and its applications in the banking sector.\\n\\nThis is a critical component for building production-ready GenAI systems at BNCR."
      ]
    },
    {
      "cell_type": "markdown",
      "metadata": {},
      "source": [
        "## Part 1: Azure AI Search overview"
      ]
    },
    {
      "cell_type": "code",
      "execution_count": null,
      "metadata": {},
      "outputs": [],
      "source": [
        "# TODO: Implement Azure AI Search overview\\n# Code examples will be provided during the live session\\npass"
      ]
    },
    {
      "cell_type": "markdown",
      "metadata": {},
      "source": [
        "## \ud83c\udfaf Practical Exercises\\n\\n### Exercise 1: Index banking documents\\n### Exercise 2: Build hybrid search system\\n### Exercise 3: Implement filtered search"
      ]
    },
    {
      "cell_type": "code",
      "execution_count": null,
      "metadata": {},
      "outputs": [],
      "source": [
        "# TODO: Complete the exercises\\n# Your code here:\\n"
      ]
    },
    {
      "cell_type": "markdown",
      "metadata": {},
      "source": [
        "## Summary\\n\\nIn this lab, you learned about Azure AI Search Integration and how to apply it in banking scenarios.\\n\\n### Key Takeaways:\\n\\n- Azure AI Search overview\\n- Indexing banking documents\\n- Hybrid search (keyword + semantic)\\n- Filtering and faceting\\n- Integration with Azure OpenAI\\n\\n### Best Practices:\\n\\n1. Always validate inputs and outputs\\n2. Implement proper error handling\\n3. Monitor performance and costs\\n4. Follow security best practices\\n5. Document your implementations\\n\\n---\\n\\n**Instructor:** Manuela Larrea | manuela.larrea@idataglobal.com"
      ]
    }
  ],
  "metadata": {
    "kernelspec": {
      "display_name": "Python 3",
      "language": "python",
      "name": "python3"
    },
    "language_info": {
      "name": "python",
      "version": "3.11.0"
    }
  },
  "nbformat": 4,
  "nbformat_minor": 4
}