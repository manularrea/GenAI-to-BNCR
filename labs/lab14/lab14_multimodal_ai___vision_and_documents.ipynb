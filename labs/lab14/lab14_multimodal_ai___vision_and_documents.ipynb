{
  "cells": [
    {
      "cell_type": "markdown",
      "metadata": {},
      "source": [
        "# Lab 14: Multimodal AI - Vision and Documents\\n\\n**Course:** Generative AI for Banking Sector  \\n**Institution:** Banco Nacional de Costa Rica (BNCR)  \\n**Instructor:** Manuela Larrea  \\n**Duration:** 3 hours\\n\\n---\\n\\n## Learning Objectives\\n\\nBy the end of this lab, you will be able to:\\n\\n1. GPT-4 Vision capabilities\\n2. Document analysis (checks, forms)\\n3. OCR and data extraction\\n4. Chart and graph understanding\\n5. Banking document processing\\n\\n---"
      ]
    },
    {
      "cell_type": "code",
      "execution_count": null,
      "metadata": {},
      "outputs": [],
      "source": [
        "import os\\nimport sys\\nfrom openai import AzureOpenAI\\nfrom dotenv import load_dotenv\\nimport json\\n\\nsys.path.append('../../utils')\\nfrom azure_openai_helper import AzureOpenAIClient\\n\\nload_dotenv()\\nclient = AzureOpenAIClient()\\n\\nprint(\"\u2713 Setup complete\")"
      ]
    },
    {
      "cell_type": "markdown",
      "metadata": {},
      "source": [
        "## Introduction\\n\\nIn this lab, we will explore **Multimodal AI - Vision and Documents** and its applications in the banking sector.\\n\\nThis is a critical component for building production-ready GenAI systems at BNCR."
      ]
    },
    {
      "cell_type": "markdown",
      "metadata": {},
      "source": [
        "## Part 1: GPT-4 Vision capabilities"
      ]
    },
    {
      "cell_type": "code",
      "execution_count": null,
      "metadata": {},
      "outputs": [],
      "source": [
        "# TODO: Implement GPT-4 Vision capabilities\\n# Code examples will be provided during the live session\\npass"
      ]
    },
    {
      "cell_type": "markdown",
      "metadata": {},
      "source": [
        "## \ud83c\udfaf Practical Exercises\\n\\n### Exercise 1: Extract data from checks\\n### Exercise 2: Analyze financial statements\\n### Exercise 3: Process loan application forms"
      ]
    },
    {
      "cell_type": "code",
      "execution_count": null,
      "metadata": {},
      "outputs": [],
      "source": [
        "# TODO: Complete the exercises\\n# Your code here:\\n"
      ]
    },
    {
      "cell_type": "markdown",
      "metadata": {},
      "source": [
        "## Summary\\n\\nIn this lab, you learned about Multimodal AI - Vision and Documents and how to apply it in banking scenarios.\\n\\n### Key Takeaways:\\n\\n- GPT-4 Vision capabilities\\n- Document analysis (checks, forms)\\n- OCR and data extraction\\n- Chart and graph understanding\\n- Banking document processing\\n\\n### Best Practices:\\n\\n1. Always validate inputs and outputs\\n2. Implement proper error handling\\n3. Monitor performance and costs\\n4. Follow security best practices\\n5. Document your implementations\\n\\n---\\n\\n**Instructor:** Manuela Larrea | manuela.larrea@idataglobal.com"
      ]
    }
  ],
  "metadata": {
    "kernelspec": {
      "display_name": "Python 3",
      "language": "python",
      "name": "python3"
    },
    "language_info": {
      "name": "python",
      "version": "3.11.0"
    }
  },
  "nbformat": 4,
  "nbformat_minor": 4
}