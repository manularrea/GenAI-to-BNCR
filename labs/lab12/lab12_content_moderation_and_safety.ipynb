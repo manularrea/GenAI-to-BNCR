{
  "cells": [
    {
      "cell_type": "markdown",
      "metadata": {},
      "source": [
        "# Lab 12: Content Moderation and Safety\\n\\n**Course:** Generative AI for Banking Sector  \\n**Institution:** Banco Nacional de Costa Rica (BNCR)  \\n**Instructor:** Manuela Larrea  \\n**Duration:** 3 hours\\n\\n---\\n\\n## Learning Objectives\\n\\nBy the end of this lab, you will be able to:\\n\\n1. Azure Content Safety API\\n2. Detecting harmful content\\n3. PII detection and redaction\\n4. Jailbreak prevention\\n5. Compliance and audit logging\\n\\n---"
      ]
    },
    {
      "cell_type": "code",
      "execution_count": null,
      "metadata": {},
      "outputs": [],
      "source": [
        "import os\\nimport sys\\nfrom openai import AzureOpenAI\\nfrom dotenv import load_dotenv\\nimport json\\n\\nsys.path.append('../../utils')\\nfrom azure_openai_helper import AzureOpenAIClient\\n\\nload_dotenv()\\nclient = AzureOpenAIClient()\\n\\nprint(\"\u2713 Setup complete\")"
      ]
    },
    {
      "cell_type": "markdown",
      "metadata": {},
      "source": [
        "## Introduction\\n\\nIn this lab, we will explore **Content Moderation and Safety** and its applications in the banking sector.\\n\\nThis is a critical component for building production-ready GenAI systems at BNCR."
      ]
    },
    {
      "cell_type": "markdown",
      "metadata": {},
      "source": [
        "## Part 1: Azure Content Safety API"
      ]
    },
    {
      "cell_type": "code",
      "execution_count": null,
      "metadata": {},
      "outputs": [],
      "source": [
        "# TODO: Implement Azure Content Safety API\\n# Code examples will be provided during the live session\\npass"
      ]
    },
    {
      "cell_type": "markdown",
      "metadata": {},
      "source": [
        "## \ud83c\udfaf Practical Exercises\\n\\n### Exercise 1: Implement content filter\\n### Exercise 2: Build PII redaction system\\n### Exercise 3: Create safety monitoring dashboard"
      ]
    },
    {
      "cell_type": "code",
      "execution_count": null,
      "metadata": {},
      "outputs": [],
      "source": [
        "# TODO: Complete the exercises\\n# Your code here:\\n"
      ]
    },
    {
      "cell_type": "markdown",
      "metadata": {},
      "source": [
        "## Summary\\n\\nIn this lab, you learned about Content Moderation and Safety and how to apply it in banking scenarios.\\n\\n### Key Takeaways:\\n\\n- Azure Content Safety API\\n- Detecting harmful content\\n- PII detection and redaction\\n- Jailbreak prevention\\n- Compliance and audit logging\\n\\n### Best Practices:\\n\\n1. Always validate inputs and outputs\\n2. Implement proper error handling\\n3. Monitor performance and costs\\n4. Follow security best practices\\n5. Document your implementations\\n\\n---\\n\\n**Instructor:** Manuela Larrea | manuela.larrea@idataglobal.com"
      ]
    }
  ],
  "metadata": {
    "kernelspec": {
      "display_name": "Python 3",
      "language": "python",
      "name": "python3"
    },
    "language_info": {
      "name": "python",
      "version": "3.11.0"
    }
  },
  "nbformat": 4,
  "nbformat_minor": 4
}