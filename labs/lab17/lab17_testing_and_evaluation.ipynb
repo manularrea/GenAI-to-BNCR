{
  "cells": [
    {
      "cell_type": "markdown",
      "metadata": {},
      "source": [
        "# Lab 17: Testing and Evaluation\\n\\n**Course:** Generative AI for Banking Sector  \\n**Institution:** Banco Nacional de Costa Rica (BNCR)  \\n**Instructor:** Manuela Larrea  \\n**Duration:** 3 hours\\n\\n---\\n\\n## Learning Objectives\\n\\nBy the end of this lab, you will be able to:\\n\\n1. LLM evaluation metrics\\n2. A/B testing strategies\\n3. Human evaluation\\n4. Automated testing\\n5. Regression detection\\n\\n---"
      ]
    },
    {
      "cell_type": "code",
      "execution_count": null,
      "metadata": {},
      "outputs": [],
      "source": [
        "import os\\nimport sys\\nfrom openai import AzureOpenAI\\nfrom dotenv import load_dotenv\\nimport json\\n\\nsys.path.append('../../utils')\\nfrom azure_openai_helper import AzureOpenAIClient\\n\\nload_dotenv()\\nclient = AzureOpenAIClient()\\n\\nprint(\"\u2713 Setup complete\")"
      ]
    },
    {
      "cell_type": "markdown",
      "metadata": {},
      "source": [
        "## Introduction\\n\\nIn this lab, we will explore **Testing and Evaluation** and its applications in the banking sector.\\n\\nThis is a critical component for building production-ready GenAI systems at BNCR."
      ]
    },
    {
      "cell_type": "markdown",
      "metadata": {},
      "source": [
        "## Part 1: LLM evaluation metrics"
      ]
    },
    {
      "cell_type": "code",
      "execution_count": null,
      "metadata": {},
      "outputs": [],
      "source": [
        "# TODO: Implement LLM evaluation metrics\\n# Code examples will be provided during the live session\\npass"
      ]
    },
    {
      "cell_type": "markdown",
      "metadata": {},
      "source": [
        "## \ud83c\udfaf Practical Exercises\\n\\n### Exercise 1: Create test suite\\n### Exercise 2: Implement evaluation metrics\\n### Exercise 3: Build comparison dashboard"
      ]
    },
    {
      "cell_type": "code",
      "execution_count": null,
      "metadata": {},
      "outputs": [],
      "source": [
        "# TODO: Complete the exercises\\n# Your code here:\\n"
      ]
    },
    {
      "cell_type": "markdown",
      "metadata": {},
      "source": [
        "## Summary\\n\\nIn this lab, you learned about Testing and Evaluation and how to apply it in banking scenarios.\\n\\n### Key Takeaways:\\n\\n- LLM evaluation metrics\\n- A/B testing strategies\\n- Human evaluation\\n- Automated testing\\n- Regression detection\\n\\n### Best Practices:\\n\\n1. Always validate inputs and outputs\\n2. Implement proper error handling\\n3. Monitor performance and costs\\n4. Follow security best practices\\n5. Document your implementations\\n\\n---\\n\\n**Instructor:** Manuela Larrea | manuela.larrea@idataglobal.com"
      ]
    }
  ],
  "metadata": {
    "kernelspec": {
      "display_name": "Python 3",
      "language": "python",
      "name": "python3"
    },
    "language_info": {
      "name": "python",
      "version": "3.11.0"
    }
  },
  "nbformat": 4,
  "nbformat_minor": 4
}